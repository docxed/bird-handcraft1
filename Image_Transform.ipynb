{
 "cells": [
  {
   "cell_type": "code",
   "execution_count": null,
   "metadata": {},
   "outputs": [],
   "source": [
    "import cv2\n",
    "import numpy as np\n",
    "import tqdm as t\n",
    "import matplotlib.pyplot as plt\n",
    "from sklearn.svm import SVC\n",
    "import skimage.feature as skf\n",
    "import sklearn.neighbors as sn\n",
    "from sklearn.neural_network import MLPClassifier\n",
    "import os"
   ]
  },
  {
   "cell_type": "code",
   "execution_count": 3,
   "metadata": {},
   "outputs": [
    {
     "ename": "NameError",
     "evalue": "name 'os' is not defined",
     "output_type": "error",
     "traceback": [
      "\u001b[1;31m---------------------------------------------------------------------------\u001b[0m",
      "\u001b[1;31mNameError\u001b[0m                                 Traceback (most recent call last)",
      "\u001b[1;32m<ipython-input-3-c8db45bac9a5>\u001b[0m in \u001b[0;36m<module>\u001b[1;34m\u001b[0m\n\u001b[0;32m      4\u001b[0m \u001b[0mlabelTr\u001b[0m \u001b[1;33m=\u001b[0m \u001b[1;33m[\u001b[0m\u001b[1;33m]\u001b[0m\u001b[1;33m;\u001b[0m\u001b[1;33m\u001b[0m\u001b[1;33m\u001b[0m\u001b[0m\n\u001b[0;32m      5\u001b[0m \u001b[0mpathOrigin\u001b[0m \u001b[1;33m=\u001b[0m \u001b[1;34m'C:\\\\Week10\\\\Tr\\\\'\u001b[0m\u001b[1;33m\u001b[0m\u001b[1;33m\u001b[0m\u001b[0m\n\u001b[1;32m----> 6\u001b[1;33m \u001b[0mspecies\u001b[0m \u001b[1;33m=\u001b[0m \u001b[0mos\u001b[0m\u001b[1;33m.\u001b[0m\u001b[0mlistdir\u001b[0m\u001b[1;33m(\u001b[0m\u001b[0mpathOrigin\u001b[0m\u001b[1;33m)\u001b[0m\u001b[1;33m\u001b[0m\u001b[1;33m\u001b[0m\u001b[0m\n\u001b[0m\u001b[0;32m      7\u001b[0m \u001b[1;33m\u001b[0m\u001b[0m\n\u001b[0;32m      8\u001b[0m \u001b[1;32mfor\u001b[0m \u001b[0m_class\u001b[0m \u001b[1;32min\u001b[0m \u001b[0mt\u001b[0m\u001b[1;33m.\u001b[0m\u001b[0mtqdm\u001b[0m\u001b[1;33m(\u001b[0m\u001b[0mspecies\u001b[0m\u001b[1;33m)\u001b[0m\u001b[1;33m:\u001b[0m\u001b[1;33m\u001b[0m\u001b[1;33m\u001b[0m\u001b[0m\n",
      "\u001b[1;31mNameError\u001b[0m: name 'os' is not defined"
     ]
    }
   ],
   "source": [
    "# Code for training feature\n",
    "\n",
    "featureTr = [];\n",
    "labelTr = [];\n",
    "pathOrigin = 'C:\\\\Week10\\\\Tr\\\\'\n",
    "species = os.listdir(pathOrigin)\n",
    "\n",
    "for _class in t.tqdm(species):\n",
    "    if _class == '.' or _class == '..':\n",
    "        continue\n",
    "#     print(_class)\n",
    "    for _img in os.listdir(pathOrigin + _class):\n",
    "        if _img == '.' or _img == '..':\n",
    "            continue\n",
    "        path = pathOrigin + _class + '\\\\' + _img\n",
    "        img = cv2.imread(path)\n",
    "        \n",
    "        featureTr.append('feature')\n",
    "        labelTr.append(_class)"
   ]
  },
  {
   "cell_type": "code",
   "execution_count": null,
   "metadata": {},
   "outputs": [],
   "source": [
    "# Code for testing feature\n",
    "featureTs = [];\n",
    "labelTs = [];\n",
    "pathOrigin = 'C:\\\\Week10\\\\Ts\\\\'\n",
    "for _class in t.tqdm(species):\n",
    "    if _class == '.' or _class == '..':\n",
    "        continue\n",
    "#     print(_class)\n",
    "    for _img in os.listdir(pathOrigin + _class):\n",
    "        if _img == '.' or _img == '..':\n",
    "            continue\n",
    "        path = pathOrigin + _class + '\\\\' + _img\n",
    "#         gaus = cv2.getGaussianKernel(9,3)\n",
    "#         gauFilter = np.multiply(gaus.T, gaus)\n",
    "#         img = cv2.filter2D(img, -1, gauFilter, borderType=0)\n",
    "        img = cv2.imread(path)\n",
    "\n",
    "        featureTs.append('feature')\n",
    "        labelTs.append(_class)"
   ]
  },
  {
   "cell_type": "code",
   "execution_count": null,
   "metadata": {},
   "outputs": [],
   "source": [
    "# Code for Classification\n",
    "# n_neighbors\n",
    "clf1 = sn.KNeighborsClassifier(n_neighbors=1)\n",
    "clf1.fit(featureTr, labelTr)\n",
    "y_pred = clf1.predict(featureTs)"
   ]
  },
  {
   "cell_type": "code",
   "execution_count": null,
   "metadata": {},
   "outputs": [],
   "source": [
    "clf2 = SVC()\n",
    "clf2.fit(featureTr, labelTr)\n",
    "y_pred = clf2.predict(featureTs)"
   ]
  },
  {
   "cell_type": "code",
   "execution_count": null,
   "metadata": {},
   "outputs": [],
   "source": [
    "# hidden_layer_sizes(layer) activation = [logistic, relu]\n",
    "clf3 = MLPClassifier(hidden_layer_sizes=(10, 10), activation='logistic', max_iter=10000)\n",
    "clf3.fit(featureTr, labelTr)\n",
    "y_pred = clf3.predict(featureTs)"
   ]
  },
  {
   "cell_type": "code",
   "execution_count": null,
   "metadata": {},
   "outputs": [],
   "source": [
    "# Code for Evaluation\n",
    "correct = 0\n",
    "for i in range(len(labelTs)):\n",
    "    if y_pred[i] == labelTs[i]:\n",
    "        correct += 1\n",
    "correct/len(labelTs)*100"
   ]
  },
  {
   "cell_type": "code",
   "execution_count": 2,
   "metadata": {},
   "outputs": [
    {
     "ename": "NameError",
     "evalue": "name 'os' is not defined",
     "output_type": "error",
     "traceback": [
      "\u001b[1;31m---------------------------------------------------------------------------\u001b[0m",
      "\u001b[1;31mNameError\u001b[0m                                 Traceback (most recent call last)",
      "\u001b[1;32m<ipython-input-2-4c83a4bd5b89>\u001b[0m in \u001b[0;36m<module>\u001b[1;34m\u001b[0m\n\u001b[0;32m      2\u001b[0m \u001b[0mlabelTr\u001b[0m \u001b[1;33m=\u001b[0m \u001b[1;33m[\u001b[0m\u001b[1;33m]\u001b[0m\u001b[1;33m;\u001b[0m\u001b[1;33m\u001b[0m\u001b[1;33m\u001b[0m\u001b[0m\n\u001b[0;32m      3\u001b[0m \u001b[0mpathOrigin\u001b[0m \u001b[1;33m=\u001b[0m \u001b[1;34m'C:\\\\Week10\\\\Tr\\\\'\u001b[0m\u001b[1;33m\u001b[0m\u001b[1;33m\u001b[0m\u001b[0m\n\u001b[1;32m----> 4\u001b[1;33m \u001b[0mspecies\u001b[0m \u001b[1;33m=\u001b[0m \u001b[0mos\u001b[0m\u001b[1;33m.\u001b[0m\u001b[0mlistdir\u001b[0m\u001b[1;33m(\u001b[0m\u001b[0mpathOrigin\u001b[0m\u001b[1;33m)\u001b[0m\u001b[1;33m\u001b[0m\u001b[1;33m\u001b[0m\u001b[0m\n\u001b[0m\u001b[0;32m      5\u001b[0m \u001b[0mparaQuantize\u001b[0m \u001b[1;33m=\u001b[0m \u001b[1;36m32\u001b[0m\u001b[1;33m\u001b[0m\u001b[1;33m\u001b[0m\u001b[0m\n\u001b[0;32m      6\u001b[0m \u001b[0mparaAngle\u001b[0m \u001b[1;33m=\u001b[0m \u001b[1;33m[\u001b[0m\u001b[1;36m0\u001b[0m\u001b[1;33m,\u001b[0m \u001b[1;36m45\u001b[0m\u001b[1;33m,\u001b[0m \u001b[1;36m90\u001b[0m\u001b[1;33m,\u001b[0m \u001b[1;36m135\u001b[0m\u001b[1;33m]\u001b[0m\u001b[1;33m\u001b[0m\u001b[1;33m\u001b[0m\u001b[0m\n",
      "\u001b[1;31mNameError\u001b[0m: name 'os' is not defined"
     ]
    }
   ],
   "source": [
    "featureTr = [];\n",
    "labelTr = [];\n",
    "pathOrigin = 'C:\\\\Week10\\\\Tr\\\\'\n",
    "species = os.listdir(pathOrigin)\n",
    "paraQuantize = 32\n",
    "paraAngle = [0, 45, 90, 135]\n",
    "paraDistance = [1, 2, 3]\n",
    "for _class in species:\n",
    "    if _class == '.' or _class == '..':\n",
    "        continue\n",
    "#     print(_class)\n",
    "    for _img in os.listdir(pathOrigin + _class):\n",
    "        if _img == '.' or _img == '..':\n",
    "            continue\n",
    "        path = pathOrigin + _class + '\\\\' + _img\n",
    "        img = cv2.imread(path)\n",
    "        img = cv2.cvtColor(img, cv2.COLOR_BGR2GRAY)\n",
    "        img = (img / (256/paraQuantize)).astype(int);\n",
    "        glcm = skf.greycomatrix(img, distances=paraDistance, angles=paraAngle,levels=paraQuantize, symmetric=True, normed=True)\n",
    "        featureCon = skf.greycoprops(glcm, 'contrast')[0]\n",
    "        featureEne = skf.greycoprops(glcm, 'energy')[0]\n",
    "        featureHom = skf.greycoprops(glcm, 'homogeneity')[0]\n",
    "        featureCor = skf.greycoprops(glcm, 'correlation')[0]\n",
    "        featureTmp = np.hstack((featureCon, featureEne, featureHom, featureCor))\n",
    "        featureTr.append(featureTmp)\n",
    "        labelTr.append(_class)\n",
    "featureTr = np.array(featureTr)"
   ]
  },
  {
   "cell_type": "code",
   "execution_count": 1,
   "metadata": {},
   "outputs": [
    {
     "ename": "NameError",
     "evalue": "name 'species' is not defined",
     "output_type": "error",
     "traceback": [
      "\u001b[1;31m---------------------------------------------------------------------------\u001b[0m",
      "\u001b[1;31mNameError\u001b[0m                                 Traceback (most recent call last)",
      "\u001b[1;32m<ipython-input-1-a705cb082e3e>\u001b[0m in \u001b[0;36m<module>\u001b[1;34m\u001b[0m\n\u001b[0;32m      2\u001b[0m \u001b[0mlabelTs\u001b[0m \u001b[1;33m=\u001b[0m \u001b[1;33m[\u001b[0m\u001b[1;33m]\u001b[0m\u001b[1;33m\u001b[0m\u001b[1;33m\u001b[0m\u001b[0m\n\u001b[0;32m      3\u001b[0m \u001b[0mpathOrigin\u001b[0m \u001b[1;33m=\u001b[0m \u001b[1;34m'C:\\\\Week10\\\\Ts\\\\'\u001b[0m\u001b[1;33m\u001b[0m\u001b[1;33m\u001b[0m\u001b[0m\n\u001b[1;32m----> 4\u001b[1;33m \u001b[1;32mfor\u001b[0m \u001b[0m_class\u001b[0m \u001b[1;32min\u001b[0m \u001b[0mspecies\u001b[0m\u001b[1;33m:\u001b[0m\u001b[1;33m\u001b[0m\u001b[1;33m\u001b[0m\u001b[0m\n\u001b[0m\u001b[0;32m      5\u001b[0m     \u001b[1;32mif\u001b[0m \u001b[0m_class\u001b[0m \u001b[1;33m==\u001b[0m \u001b[1;34m'.'\u001b[0m \u001b[1;32mor\u001b[0m \u001b[0m_class\u001b[0m \u001b[1;33m==\u001b[0m \u001b[1;34m'..'\u001b[0m\u001b[1;33m:\u001b[0m\u001b[1;33m\u001b[0m\u001b[1;33m\u001b[0m\u001b[0m\n\u001b[0;32m      6\u001b[0m         \u001b[1;32mcontinue\u001b[0m\u001b[1;33m\u001b[0m\u001b[1;33m\u001b[0m\u001b[0m\n",
      "\u001b[1;31mNameError\u001b[0m: name 'species' is not defined"
     ]
    }
   ],
   "source": [
    "featureTs = []\n",
    "labelTs = []\n",
    "pathOrigin = 'C:\\\\Week10\\\\Ts\\\\'\n",
    "for _class in species:\n",
    "    if _class == '.' or _class == '..':\n",
    "        continue\n",
    "#     print(_class)\n",
    "    for _img in os.listdir(pathOrigin + _class):\n",
    "        if _img == '.' or _img == '..':\n",
    "            continue\n",
    "        path = pathOrigin + _class + '\\\\' + _img\n",
    "        img = cv2.imread(path)\n",
    "        img = cv2.cvtColor(img, cv2.COLOR_BGR2GRAY)\n",
    "        img = (img / (256/paraQuantize)).astype(int);\n",
    "        glcm = skf.greycomatrix(img, distances=paraDistance, angles=paraAngle, levels=paraQuantize,symmetric=True, normed=True)\n",
    "        featureCon = skf.greycoprops(glcm, 'contrast')[0]\n",
    "        featureEne = skf.greycoprops(glcm, 'energy')[0]\n",
    "        featureHom = skf.greycoprops(glcm, 'homogeneity')[0]\n",
    "        featureCor = skf.greycoprops(glcm, 'correlation')[0]\n",
    "        featureTmp = np.hstack((featureCon, featureEne, featureHom, featureCor))\n",
    "        featureTs.append(featureTmp)\n",
    "        labelTs.append(_class)\n",
    "featureTs = np.reshape(featureTs, (500,-1))"
   ]
  },
  {
   "cell_type": "code",
   "execution_count": null,
   "metadata": {},
   "outputs": [],
   "source": []
  }
 ],
 "metadata": {
  "kernelspec": {
   "display_name": "Python 3",
   "language": "python",
   "name": "python3"
  },
  "language_info": {
   "codemirror_mode": {
    "name": "ipython",
    "version": 3
   },
   "file_extension": ".py",
   "mimetype": "text/x-python",
   "name": "python",
   "nbconvert_exporter": "python",
   "pygments_lexer": "ipython3",
   "version": "3.8.5"
  }
 },
 "nbformat": 4,
 "nbformat_minor": 5
}
